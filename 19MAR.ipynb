{
 "cells": [
  {
   "cell_type": "markdown",
   "id": "8c7b18ce-fec0-4fd2-84b2-385901ab317a",
   "metadata": {},
   "source": [
    "<p>1 how to check the normality of the data <br>\n",
    "2. z test<br>\n",
    "3. t test<br>\n",
    "4. chi squre test<br>\n",
    "5 anova test</p>"
   ]
  },
  {
   "cell_type": "code",
   "execution_count": 87,
   "id": "fb5ffe83-4eda-49da-9d26-d2bebd431c20",
   "metadata": {},
   "outputs": [],
   "source": [
    "import pandas as pd\n",
    "import numpy as np\n",
    "import statistics as stat\n",
    "import seaborn as sns\n",
    "import scipy.stats as stats\n",
    "import scipy"
   ]
  },
  {
   "cell_type": "code",
   "execution_count": 3,
   "id": "d4665412-d174-4541-a4f0-842f8f68320f",
   "metadata": {},
   "outputs": [
    {
     "data": {
      "text/html": [
       "<div>\n",
       "<style scoped>\n",
       "    .dataframe tbody tr th:only-of-type {\n",
       "        vertical-align: middle;\n",
       "    }\n",
       "\n",
       "    .dataframe tbody tr th {\n",
       "        vertical-align: top;\n",
       "    }\n",
       "\n",
       "    .dataframe thead th {\n",
       "        text-align: right;\n",
       "    }\n",
       "</style>\n",
       "<table border=\"1\" class=\"dataframe\">\n",
       "  <thead>\n",
       "    <tr style=\"text-align: right;\">\n",
       "      <th></th>\n",
       "      <th>fixed acidity</th>\n",
       "      <th>volatile acidity</th>\n",
       "      <th>citric acid</th>\n",
       "      <th>residual sugar</th>\n",
       "      <th>chlorides</th>\n",
       "      <th>free sulfur dioxide</th>\n",
       "      <th>total sulfur dioxide</th>\n",
       "      <th>density</th>\n",
       "      <th>pH</th>\n",
       "      <th>sulphates</th>\n",
       "      <th>alcohol</th>\n",
       "      <th>quality</th>\n",
       "    </tr>\n",
       "  </thead>\n",
       "  <tbody>\n",
       "    <tr>\n",
       "      <th>0</th>\n",
       "      <td>7.4</td>\n",
       "      <td>0.70</td>\n",
       "      <td>0.00</td>\n",
       "      <td>1.9</td>\n",
       "      <td>0.076</td>\n",
       "      <td>11.0</td>\n",
       "      <td>34.0</td>\n",
       "      <td>0.9978</td>\n",
       "      <td>3.51</td>\n",
       "      <td>0.56</td>\n",
       "      <td>9.4</td>\n",
       "      <td>5</td>\n",
       "    </tr>\n",
       "    <tr>\n",
       "      <th>1</th>\n",
       "      <td>7.8</td>\n",
       "      <td>0.88</td>\n",
       "      <td>0.00</td>\n",
       "      <td>2.6</td>\n",
       "      <td>0.098</td>\n",
       "      <td>25.0</td>\n",
       "      <td>67.0</td>\n",
       "      <td>0.9968</td>\n",
       "      <td>3.20</td>\n",
       "      <td>0.68</td>\n",
       "      <td>9.8</td>\n",
       "      <td>5</td>\n",
       "    </tr>\n",
       "    <tr>\n",
       "      <th>2</th>\n",
       "      <td>7.8</td>\n",
       "      <td>0.76</td>\n",
       "      <td>0.04</td>\n",
       "      <td>2.3</td>\n",
       "      <td>0.092</td>\n",
       "      <td>15.0</td>\n",
       "      <td>54.0</td>\n",
       "      <td>0.9970</td>\n",
       "      <td>3.26</td>\n",
       "      <td>0.65</td>\n",
       "      <td>9.8</td>\n",
       "      <td>5</td>\n",
       "    </tr>\n",
       "    <tr>\n",
       "      <th>3</th>\n",
       "      <td>11.2</td>\n",
       "      <td>0.28</td>\n",
       "      <td>0.56</td>\n",
       "      <td>1.9</td>\n",
       "      <td>0.075</td>\n",
       "      <td>17.0</td>\n",
       "      <td>60.0</td>\n",
       "      <td>0.9980</td>\n",
       "      <td>3.16</td>\n",
       "      <td>0.58</td>\n",
       "      <td>9.8</td>\n",
       "      <td>6</td>\n",
       "    </tr>\n",
       "    <tr>\n",
       "      <th>4</th>\n",
       "      <td>7.4</td>\n",
       "      <td>0.70</td>\n",
       "      <td>0.00</td>\n",
       "      <td>1.9</td>\n",
       "      <td>0.076</td>\n",
       "      <td>11.0</td>\n",
       "      <td>34.0</td>\n",
       "      <td>0.9978</td>\n",
       "      <td>3.51</td>\n",
       "      <td>0.56</td>\n",
       "      <td>9.4</td>\n",
       "      <td>5</td>\n",
       "    </tr>\n",
       "  </tbody>\n",
       "</table>\n",
       "</div>"
      ],
      "text/plain": [
       "   fixed acidity  volatile acidity  citric acid  residual sugar  chlorides  \\\n",
       "0            7.4              0.70         0.00             1.9      0.076   \n",
       "1            7.8              0.88         0.00             2.6      0.098   \n",
       "2            7.8              0.76         0.04             2.3      0.092   \n",
       "3           11.2              0.28         0.56             1.9      0.075   \n",
       "4            7.4              0.70         0.00             1.9      0.076   \n",
       "\n",
       "   free sulfur dioxide  total sulfur dioxide  density    pH  sulphates  \\\n",
       "0                 11.0                  34.0   0.9978  3.51       0.56   \n",
       "1                 25.0                  67.0   0.9968  3.20       0.68   \n",
       "2                 15.0                  54.0   0.9970  3.26       0.65   \n",
       "3                 17.0                  60.0   0.9980  3.16       0.58   \n",
       "4                 11.0                  34.0   0.9978  3.51       0.56   \n",
       "\n",
       "   alcohol  quality  \n",
       "0      9.4        5  \n",
       "1      9.8        5  \n",
       "2      9.8        5  \n",
       "3      9.8        6  \n",
       "4      9.4        5  "
      ]
     },
     "execution_count": 3,
     "metadata": {},
     "output_type": "execute_result"
    }
   ],
   "source": [
    "data=pd.read_csv(\"https://raw.githubusercontent.com/shrikant-temburwar/Wine-Quality-Dataset/master/winequality-red.csv\",sep=';')\n",
    "data.head(5)"
   ]
  },
  {
   "cell_type": "code",
   "execution_count": 5,
   "id": "60195e3c-5f1d-47a3-bf02-fcebea83fabb",
   "metadata": {},
   "outputs": [],
   "source": [
    "data_copy=data\n"
   ]
  },
  {
   "cell_type": "code",
   "execution_count": 12,
   "id": "ed4b4e7f-3749-402c-8a34-444bcd6bbc96",
   "metadata": {},
   "outputs": [
    {
     "name": "stderr",
     "output_type": "stream",
     "text": [
      "C:\\Users\\Dhruv\\anaconda3\\lib\\site-packages\\seaborn\\distributions.py:2619: FutureWarning: `distplot` is a deprecated function and will be removed in a future version. Please adapt your code to use either `displot` (a figure-level function with similar flexibility) or `histplot` (an axes-level function for histograms).\n",
      "  warnings.warn(msg, FutureWarning)\n"
     ]
    },
    {
     "data": {
      "text/plain": [
       "<AxesSubplot:xlabel='volatile acidity', ylabel='Density'>"
      ]
     },
     "execution_count": 12,
     "metadata": {},
     "output_type": "execute_result"
    },
    {
     "data": {
      "image/png": "[encoded data removed]",
      "text/plain": [
       "<Figure size 640x480 with 1 Axes>"
      ]
     },
     "metadata": {},
     "output_type": "display_data"
    }
   ],
   "source": [
    "sns.distplot(data['volatile acidity'],kde=True)"
   ]
  },
  {
   "cell_type": "code",
   "execution_count": 21,
   "id": "7f6c9006-0d82-4e6c-9672-6ffed7d107cb",
   "metadata": {},
   "outputs": [
    {
     "name": "stderr",
     "output_type": "stream",
     "text": [
      "C:\\Users\\Dhruv\\anaconda3\\lib\\site-packages\\seaborn\\distributions.py:2619: FutureWarning: `distplot` is a deprecated function and will be removed in a future version. Please adapt your code to use either `displot` (a figure-level function with similar flexibility) or `histplot` (an axes-level function for histograms).\n",
      "  warnings.warn(msg, FutureWarning)\n"
     ]
    },
    {
     "data": {
      "text/plain": [
       "<AxesSubplot:xlabel='citric acid', ylabel='Density'>"
      ]
     },
     "execution_count": 21,
     "metadata": {},
     "output_type": "execute_result"
    },
    {
     "data": {
      "image/png": "[encoded data removed]",
      "text/plain": [
       "<Figure size 640x480 with 1 Axes>"
      ]
     },
     "metadata": {},
     "output_type": "display_data"
    }
   ],
   "source": [
    "sns.distplot(data['citric acid'],kde=True,color='purple')"
   ]
  },
  {
   "cell_type": "code",
   "execution_count": 19,
   "id": "76c1552e-4212-4ecb-aba4-caf4dea7c962",
   "metadata": {},
   "outputs": [
    {
     "name": "stderr",
     "output_type": "stream",
     "text": [
      "C:\\Users\\Dhruv\\anaconda3\\lib\\site-packages\\seaborn\\distributions.py:2619: FutureWarning: `distplot` is a deprecated function and will be removed in a future version. Please adapt your code to use either `displot` (a figure-level function with similar flexibility) or `histplot` (an axes-level function for histograms).\n",
      "  warnings.warn(msg, FutureWarning)\n"
     ]
    },
    {
     "data": {
      "text/plain": [
       "<AxesSubplot:xlabel='fixed acidity', ylabel='Density'>"
      ]
     },
     "execution_count": 19,
     "metadata": {},
     "output_type": "execute_result"
    },
    {
     "data": {
      "image/png": "[encoded data removed]",
      "text/plain": [
       "<Figure size 640x480 with 1 Axes>"
      ]
     },
     "metadata": {},
     "output_type": "display_data"
    }
   ],
   "source": [
    "sns.distplot(data['fixed acidity'],kde=True,color='green')"
   ]
  },
  {
   "cell_type": "code",
   "execution_count": 18,
   "id": "5c3c4054-6063-4f22-afa5-2f7954dc3625",
   "metadata": {},
   "outputs": [
    {
     "name": "stderr",
     "output_type": "stream",
     "text": [
      "C:\\Users\\Dhruv\\anaconda3\\lib\\site-packages\\seaborn\\distributions.py:2619: FutureWarning: `distplot` is a deprecated function and will be removed in a future version. Please adapt your code to use either `displot` (a figure-level function with similar flexibility) or `histplot` (an axes-level function for histograms).\n",
      "  warnings.warn(msg, FutureWarning)\n"
     ]
    },
    {
     "data": {
      "text/plain": [
       "<AxesSubplot:xlabel='chlorides', ylabel='Density'>"
      ]
     },
     "execution_count": 18,
     "metadata": {},
     "output_type": "execute_result"
    },
    {
     "data": {
      "image/png": "[encoded data removed]",
      "text/plain": [
       "<Figure size 640x480 with 1 Axes>"
      ]
     },
     "metadata": {},
     "output_type": "display_data"
    }
   ],
   "source": [
    "sns.distplot(data['chlorides'],kde=True,color='teal')"
   ]
  },
  {
   "cell_type": "markdown",
   "id": "e7171598-5382-470f-bec2-9cc23f934965",
   "metadata": {},
   "source": [
    "<h1>Shapiro–Wilk test</h1>"
   ]
  },
  {
   "cell_type": "markdown",
   "id": "bf10e136-0aaa-4693-a37c-43c5c3f54e55",
   "metadata": {},
   "source": [
    "<p>if outcome of test p values is > alpha then data is normally distributed</p>"
   ]
  },
  {
   "cell_type": "code",
   "execution_count": 23,
   "id": "448581b0-5cca-45e5-9795-129f45ab87e4",
   "metadata": {},
   "outputs": [
    {
     "data": {
      "text/plain": [
       "ShapiroResult(statistic=0.9743338823318481, pvalue=2.686385373947307e-16)"
      ]
     },
     "execution_count": 23,
     "metadata": {},
     "output_type": "execute_result"
    }
   ],
   "source": [
    "stats.shapiro(data['volatile acidity'])"
   ]
  },
  {
   "cell_type": "code",
   "execution_count": 24,
   "id": "6307bc55-fe80-4a6e-968d-5a24f5bfeb74",
   "metadata": {},
   "outputs": [
    {
     "data": {
      "text/plain": [
       "ShapiroResult(statistic=0.4842468500137329, pvalue=0.0)"
      ]
     },
     "execution_count": 24,
     "metadata": {},
     "output_type": "execute_result"
    }
   ],
   "source": [
    "stats.shapiro(data['chlorides'])"
   ]
  },
  {
   "cell_type": "code",
   "execution_count": 25,
   "id": "15126e8d-3dee-456a-b488-8e8d5ceaaed8",
   "metadata": {},
   "outputs": [
    {
     "data": {
      "text/plain": [
       "ShapiroResult(statistic=0.9420264959335327, pvalue=1.5227779442162196e-24)"
      ]
     },
     "execution_count": 25,
     "metadata": {},
     "output_type": "execute_result"
    }
   ],
   "source": [
    "stats.shapiro(data['fixed acidity'])"
   ]
  },
  {
   "cell_type": "code",
   "execution_count": 26,
   "id": "5aa5b388-be05-4968-b6d6-cd62015e93b9",
   "metadata": {},
   "outputs": [
    {
     "data": {
      "text/plain": [
       "ShapiroResult(statistic=0.955294668674469, pvalue=1.0233944777578548e-21)"
      ]
     },
     "execution_count": 26,
     "metadata": {},
     "output_type": "execute_result"
    }
   ],
   "source": [
    "stats.shapiro(data['citric acid'])"
   ]
  },
  {
   "cell_type": "code",
   "execution_count": 30,
   "id": "699eb90c-cc00-4bce-989c-c5ddd8a18d53",
   "metadata": {},
   "outputs": [],
   "source": [
    "mydata=np.random.randn(500)\n"
   ]
  },
  {
   "cell_type": "code",
   "execution_count": 31,
   "id": "d1a23a93-2794-4019-a78c-f9f10f0c0c18",
   "metadata": {},
   "outputs": [
    {
     "name": "stderr",
     "output_type": "stream",
     "text": [
      "C:\\Users\\Dhruv\\anaconda3\\lib\\site-packages\\seaborn\\distributions.py:2619: FutureWarning: `distplot` is a deprecated function and will be removed in a future version. Please adapt your code to use either `displot` (a figure-level function with similar flexibility) or `histplot` (an axes-level function for histograms).\n",
      "  warnings.warn(msg, FutureWarning)\n"
     ]
    },
    {
     "data": {
      "text/plain": [
       "<AxesSubplot:ylabel='Density'>"
      ]
     },
     "execution_count": 31,
     "metadata": {},
     "output_type": "execute_result"
    },
    {
     "data": {
      "image/png": "[encoded data removed]",
      "text/plain": [
       "<Figure size 640x480 with 1 Axes>"
      ]
     },
     "metadata": {},
     "output_type": "display_data"
    }
   ],
   "source": [
    "sns.distplot(mydata)"
   ]
  },
  {
   "cell_type": "code",
   "execution_count": 38,
   "id": "93b196ed-229f-4abd-84de-46f1633a6bc1",
   "metadata": {},
   "outputs": [],
   "source": [
    "result=stats.shapiro(mydata)\n",
    "p=0.05"
   ]
  },
  {
   "cell_type": "markdown",
   "id": "28a17758-ce6d-42cc-92e8-09c1e811c34c",
   "metadata": {},
   "source": [
    "<p>accept null hypothysis 0.09 is > 0.05</p>"
   ]
  },
  {
   "cell_type": "code",
   "execution_count": 39,
   "id": "b4783c01-5180-4402-b36d-3b1498fbc275",
   "metadata": {},
   "outputs": [
    {
     "name": "stdout",
     "output_type": "stream",
     "text": [
      "accept null hyphothesis\n"
     ]
    }
   ],
   "source": [
    "if p< result[1]:\n",
    "    print(\"accept null hyphothesis\")\n",
    "else:\n",
    "    print(\"reject null hyphothesis\")"
   ]
  },
  {
   "cell_type": "code",
   "execution_count": 42,
   "id": "2706d981-4497-4c05-bb77-64762948ab4b",
   "metadata": {},
   "outputs": [
    {
     "data": {
      "text/plain": [
       "NormaltestResult(statistic=152.039214793795, pvalue=9.662822259281018e-34)"
      ]
     },
     "execution_count": 42,
     "metadata": {},
     "output_type": "execute_result"
    }
   ],
   "source": [
    "stats.normaltest(data['citric acid'])"
   ]
  },
  {
   "cell_type": "code",
   "execution_count": 43,
   "id": "8bf81733-de6c-44d7-b63b-4c12980b8106",
   "metadata": {},
   "outputs": [
    {
     "data": {
      "text/plain": [
       "NormaltestResult(statistic=2.0793514023228106, pvalue=0.3535693254900124)"
      ]
     },
     "execution_count": 43,
     "metadata": {},
     "output_type": "execute_result"
    }
   ],
   "source": [
    "stats.normaltest(mydata)"
   ]
  },
  {
   "cell_type": "markdown",
   "id": "daa91a93-8ced-4de2-b6e9-d9189492f45d",
   "metadata": {},
   "source": [
    "<h1>Z Test</h1>"
   ]
  },
  {
   "cell_type": "code",
   "execution_count": 55,
   "id": "b3bcc692-ea68-4ce5-818c-16f8e31f3408",
   "metadata": {},
   "outputs": [],
   "source": [
    "sample_mean=110\n",
    "aplha=0.05\n",
    "mean_sd=15\n",
    "pop_mean=100\n",
    "null_value=110"
   ]
  },
  {
   "cell_type": "code",
   "execution_count": 58,
   "id": "a5d097a3-5a3a-4bb8-9349-7c09d570c26e",
   "metadata": {},
   "outputs": [
    {
     "data": {
      "text/plain": [
       "101.0996073592798"
      ]
     },
     "execution_count": 58,
     "metadata": {},
     "output_type": "execute_result"
    }
   ],
   "source": [
    "np.mean(data1)"
   ]
  },
  {
   "cell_type": "code",
   "execution_count": 51,
   "id": "07129c89-4fbc-4e4c-b314-4e2806f93268",
   "metadata": {},
   "outputs": [],
   "source": [
    "data1=np.random.randn(50)*mean_sd+pop_mean\n"
   ]
  },
  {
   "cell_type": "code",
   "execution_count": 56,
   "id": "bbd368f2-7f69-4470-a2f1-9c8db04aecc7",
   "metadata": {},
   "outputs": [
    {
     "data": {
      "text/plain": [
       "(-4.721073168379225, 0.9999988269824052)"
      ]
     },
     "execution_count": 56,
     "metadata": {},
     "output_type": "execute_result"
    }
   ],
   "source": [
    "from statsmodels.stats.weightstats import ztest\n",
    "ztest(data1,value=null_value"
   ]
  },
  {
   "cell_type": "markdown",
   "id": "8e1732e7-6a0a-489d-84b6-6783998df159",
   "metadata": {},
   "source": [
    "<h1>T Test</h1>"
   ]
  },
  {
   "cell_type": "markdown",
   "id": "410cc5c6-247d-4115-bda2-a87ccd6555a5",
   "metadata": {},
   "source": [
    "<p>one sample t test (with respect to one independent sample)</p>\n",
    "<p>two sample t test (with respect to two independent sample)</p>\n",
    "<p>paired t test (two sample from the sample population on different time interval)</p>\n",
    "<h2>sample size less then 30</h2>\n",
    "<h2>population sd and var wont be there</h2>\n",
    "\n"
   ]
  },
  {
   "cell_type": "code",
   "execution_count": 62,
   "id": "4375ecd7-d3bb-431e-8016-20a86952d24e",
   "metadata": {},
   "outputs": [],
   "source": [
    "population=np.random.randint(10,50,100)"
   ]
  },
  {
   "cell_type": "code",
   "execution_count": 63,
   "id": "f7ef6dc0-d861-483f-a5b5-42b0ea09f787",
   "metadata": {},
   "outputs": [],
   "source": [
    "sample1=np.random.choice(population,33)"
   ]
  },
  {
   "cell_type": "code",
   "execution_count": 64,
   "id": "40085f39-93e8-45c7-be95-de4f4365e54c",
   "metadata": {},
   "outputs": [
    {
     "data": {
      "text/plain": [
       "array([48, 47, 35, 10, 48, 27, 46, 35, 32, 43, 23, 24, 33, 41, 27, 23, 14,\n",
       "       23, 46, 41, 10, 33, 16, 33, 36, 23, 22, 36, 36, 16, 28, 20, 33])"
      ]
     },
     "execution_count": 64,
     "metadata": {},
     "output_type": "execute_result"
    }
   ],
   "source": [
    "sample1"
   ]
  },
  {
   "cell_type": "code",
   "execution_count": 78,
   "id": "7fa0a744-cafa-4070-af74-7ed9a58c8707",
   "metadata": {},
   "outputs": [],
   "source": [
    "sample2=np.random.choice(population,33)"
   ]
  },
  {
   "cell_type": "code",
   "execution_count": 79,
   "id": "85dd79d6-cb4d-4eb5-80d8-a3bcc806541c",
   "metadata": {},
   "outputs": [
    {
     "data": {
      "text/plain": [
       "array([35, 30, 30, 23, 41, 35, 20, 10, 19, 20, 14, 29, 23, 24, 20, 20, 28,\n",
       "       47, 35, 33, 10, 18, 45, 41, 46, 43, 30, 33, 23, 20, 23, 16, 19])"
      ]
     },
     "execution_count": 79,
     "metadata": {},
     "output_type": "execute_result"
    }
   ],
   "source": [
    "sample2"
   ]
  },
  {
   "cell_type": "code",
   "execution_count": 82,
   "id": "29ede118-d659-4ac0-b67f-f6c55d136945",
   "metadata": {},
   "outputs": [
    {
     "data": {
      "text/plain": [
       "30.545454545454547"
      ]
     },
     "execution_count": 82,
     "metadata": {},
     "output_type": "execute_result"
    }
   ],
   "source": [
    "np.mean(sample1)"
   ]
  },
  {
   "cell_type": "code",
   "execution_count": 83,
   "id": "894ae593-7e71-48de-8f04-8ced703c6824",
   "metadata": {},
   "outputs": [
    {
     "data": {
      "text/plain": [
       "27.363636363636363"
      ]
     },
     "execution_count": 83,
     "metadata": {},
     "output_type": "execute_result"
    }
   ],
   "source": [
    "np.mean(sample2)"
   ]
  },
  {
   "cell_type": "code",
   "execution_count": 84,
   "id": "9c7ba233-c065-4e7e-88a2-9034a832cd68",
   "metadata": {},
   "outputs": [
    {
     "data": {
      "text/plain": [
       "27.35"
      ]
     },
     "execution_count": 84,
     "metadata": {},
     "output_type": "execute_result"
    }
   ],
   "source": [
    "my_cricket_score=[22, 38, 19, 15, 48, 11, 10, 49, 47, 38, 10, 25, 46, 10, 21, 24, 29,36, 25, 24]\n",
    "np.mean(my_cricket_score)"
   ]
  },
  {
   "cell_type": "code",
   "execution_count": 85,
   "id": "518f9a5f-317e-496b-a7dc-1b4bb26eaa97",
   "metadata": {},
   "outputs": [
    {
     "data": {
      "text/plain": [
       "34.2"
      ]
     },
     "execution_count": 85,
     "metadata": {},
     "output_type": "execute_result"
    }
   ],
   "source": [
    "virat_cricket_score=[33, 45, 23, 25, 46, 46, 46, 49, 49, 14, 14, 44, 25, 31, 25, 40, 30,20, 42, 37]\n",
    "np.mean(virat_cricket_score)"
   ]
  },
  {
   "cell_type": "code",
   "execution_count": 92,
   "id": "50d9b8aa-e39d-44c6-8bbf-b7145d4c89d7",
   "metadata": {},
   "outputs": [],
   "source": [
    "result=scipy.stats.ttest_1samp(my_cricket_score,25)"
   ]
  },
  {
   "cell_type": "code",
   "execution_count": 93,
   "id": "1ca52512-f3e8-4cbe-ba2c-1aa48fcfde66",
   "metadata": {},
   "outputs": [
    {
     "data": {
      "text/plain": [
       "Ttest_1sampResult(statistic=0.7823559987876456, pvalue=0.4436471890038205)"
      ]
     },
     "execution_count": 93,
     "metadata": {},
     "output_type": "execute_result"
    }
   ],
   "source": [
    "result"
   ]
  },
  {
   "cell_type": "code",
   "execution_count": null,
   "id": "dac55dda-c3a6-4876-9696-cc067309da82",
   "metadata": {},
   "outputs": [],
   "source": [
    "# two sample t test"
   ]
  },
  {
   "cell_type": "code",
   "execution_count": 94,
   "id": "aaae2b70-2ecd-4033-8e40-085e04f90296",
   "metadata": {},
   "outputs": [],
   "source": [
    "first=np.mean(my_cricket_score)\n",
    "second=np.mean(virat_cricket_score)"
   ]
  },
  {
   "cell_type": "code",
   "execution_count": 95,
   "id": "f013567c-af34-43da-9217-0bd49a72e819",
   "metadata": {},
   "outputs": [
    {
     "name": "stdout",
     "output_type": "stream",
     "text": [
      "27.35 34.2\n"
     ]
    }
   ],
   "source": [
    "print(first,second)"
   ]
  },
  {
   "cell_type": "code",
   "execution_count": 96,
   "id": "d266e2f0-bc7b-42d1-a16e-5cace9e305f5",
   "metadata": {},
   "outputs": [],
   "source": [
    "# null hypo is both mean have to be similar its indipendent from diff dataset"
   ]
  },
  {
   "cell_type": "code",
   "execution_count": 97,
   "id": "cc0bd143-f7f6-4ba9-80d5-8e02194e57d3",
   "metadata": {},
   "outputs": [
    {
     "data": {
      "text/plain": [
       "Ttest_indResult(statistic=-1.7201915702310573, pvalue=0.09353304669442238)"
      ]
     },
     "execution_count": 97,
     "metadata": {},
     "output_type": "execute_result"
    }
   ],
   "source": [
    "scipy.stats.ttest_ind(my_cricket_score,virat_cricket_score)"
   ]
  },
  {
   "cell_type": "code",
   "execution_count": 107,
   "id": "ae0007c8-dda3-4328-a214-d2473eae44e4",
   "metadata": {},
   "outputs": [],
   "source": [
    "# accept"
   ]
  },
  {
   "cell_type": "code",
   "execution_count": 98,
   "id": "52b4ea4d-cb9b-41be-b742-3c0299f227a3",
   "metadata": {},
   "outputs": [],
   "source": [
    "# if p value is grater then 0.05 we accept since both samples are similer"
   ]
  },
  {
   "cell_type": "code",
   "execution_count": 99,
   "id": "d66d1ade-6680-4063-961a-d7400d9c03ad",
   "metadata": {},
   "outputs": [],
   "source": [
    "# paired t test same dataset diff time intervel"
   ]
  },
  {
   "cell_type": "code",
   "execution_count": 104,
   "id": "507c6e79-b43f-4248-8933-c94bd6325810",
   "metadata": {},
   "outputs": [],
   "source": [
    "my_cricket_score_from_first_inning=[22, 38, 19, 15, 48, 11, 10, 49, 47, 38, 10, 25, 46, 10, 21, 24, 29,36, 25, 24]\n",
    "my_cricket_score_from_second_inning=[22, 38, 29, 15, 18, 11, 10, 49, 47, 38, 50, 45, 46, 40, 21, 24, 29,16, 25, 24]"
   ]
  },
  {
   "cell_type": "code",
   "execution_count": 109,
   "id": "452fdb76-6bb4-4b64-9114-0aae160da5d1",
   "metadata": {},
   "outputs": [
    {
     "data": {
      "text/plain": [
       "27.35"
      ]
     },
     "execution_count": 109,
     "metadata": {},
     "output_type": "execute_result"
    }
   ],
   "source": [
    "np.mean(my_cricket_score_from_first_inning)\n"
   ]
  },
  {
   "cell_type": "code",
   "execution_count": 108,
   "id": "f13fd8a5-56ed-4986-bc13-3e12ab48ad70",
   "metadata": {},
   "outputs": [
    {
     "data": {
      "text/plain": [
       "29.85"
      ]
     },
     "execution_count": 108,
     "metadata": {},
     "output_type": "execute_result"
    }
   ],
   "source": [
    "np.mean(my_cricket_score_from_second_inning)"
   ]
  },
  {
   "cell_type": "code",
   "execution_count": 105,
   "id": "b0d61997-ca39-4b56-82e4-c047589f0ce2",
   "metadata": {},
   "outputs": [
    {
     "data": {
      "text/plain": [
       "Ttest_relResult(statistic=-0.7542295906745516, pvalue=0.45995773816634733)"
      ]
     },
     "execution_count": 105,
     "metadata": {},
     "output_type": "execute_result"
    }
   ],
   "source": [
    "scipy.stats.ttest_rel(my_cricket_score_from_first_inning,my_cricket_score_from_second_inning)"
   ]
  },
  {
   "cell_type": "code",
   "execution_count": 106,
   "id": "e6735923-b37f-49cf-a05a-65ba76007923",
   "metadata": {},
   "outputs": [],
   "source": [
    "# accept"
   ]
  },
  {
   "cell_type": "markdown",
   "id": "e8867a21-10fe-45f8-bcd7-1e8b586e4651",
   "metadata": {},
   "source": [
    "<h1>CHI-SQUARE TEST</h1>\n",
    "<p>used for categorical data</p>\n",
    "<p>to find corr in categorical data</p>"
   ]
  },
  {
   "cell_type": "code",
   "execution_count": 112,
   "id": "5bbd451b-d87c-4fe0-a0ea-3cf4c3315b6f",
   "metadata": {},
   "outputs": [],
   "source": [
    "/dataset=sns.load_dataset('tips')"
   ]
  },
  {
   "cell_type": "code",
   "execution_count": 113,
   "id": "89b84cf2-8d51-4348-984d-eef2c9914af0",
   "metadata": {},
   "outputs": [
    {
     "data": {
      "text/html": [
       "<div>\n",
       "<style scoped>\n",
       "    .dataframe tbody tr th:only-of-type {\n",
       "        vertical-align: middle;\n",
       "    }\n",
       "\n",
       "    .dataframe tbody tr th {\n",
       "        vertical-align: top;\n",
       "    }\n",
       "\n",
       "    .dataframe thead th {\n",
       "        text-align: right;\n",
       "    }\n",
       "</style>\n",
       "<table border=\"1\" class=\"dataframe\">\n",
       "  <thead>\n",
       "    <tr style=\"text-align: right;\">\n",
       "      <th></th>\n",
       "      <th>total_bill</th>\n",
       "      <th>tip</th>\n",
       "      <th>sex</th>\n",
       "      <th>smoker</th>\n",
       "      <th>day</th>\n",
       "      <th>time</th>\n",
       "      <th>size</th>\n",
       "    </tr>\n",
       "  </thead>\n",
       "  <tbody>\n",
       "    <tr>\n",
       "      <th>0</th>\n",
       "      <td>16.99</td>\n",
       "      <td>1.01</td>\n",
       "      <td>Female</td>\n",
       "      <td>No</td>\n",
       "      <td>Sun</td>\n",
       "      <td>Dinner</td>\n",
       "      <td>2</td>\n",
       "    </tr>\n",
       "  </tbody>\n",
       "</table>\n",
       "</div>"
      ],
      "text/plain": [
       "   total_bill   tip     sex smoker  day    time  size\n",
       "0       16.99  1.01  Female     No  Sun  Dinner     2"
      ]
     },
     "execution_count": 113,
     "metadata": {},
     "output_type": "execute_result"
    }
   ],
   "source": [
    "dataset.head(1)"
   ]
  },
  {
   "cell_type": "code",
   "execution_count": 114,
   "id": "c1291580-bd2e-4a9c-b375-2a99de3d2f09",
   "metadata": {},
   "outputs": [
    {
     "name": "stdout",
     "output_type": "stream",
     "text": [
      "<class 'pandas.core.frame.DataFrame'>\n",
      "RangeIndex: 244 entries, 0 to 243\n",
      "Data columns (total 7 columns):\n",
      " #   Column      Non-Null Count  Dtype   \n",
      "---  ------      --------------  -----   \n",
      " 0   total_bill  244 non-null    float64 \n",
      " 1   tip         244 non-null    float64 \n",
      " 2   sex         244 non-null    category\n",
      " 3   smoker      244 non-null    category\n",
      " 4   day         244 non-null    category\n",
      " 5   time        244 non-null    category\n",
      " 6   size        244 non-null    int64   \n",
      "dtypes: category(4), float64(2), int64(1)\n",
      "memory usage: 7.4 KB\n"
     ]
    }
   ],
   "source": [
    "dataset.info()"
   ]
  },
  {
   "cell_type": "code",
   "execution_count": 117,
   "id": "877c24c3-d82c-414b-8af0-8a7e00c328f6",
   "metadata": {},
   "outputs": [
    {
     "data": {
      "text/html": [
       "<div>\n",
       "<style scoped>\n",
       "    .dataframe tbody tr th:only-of-type {\n",
       "        vertical-align: middle;\n",
       "    }\n",
       "\n",
       "    .dataframe tbody tr th {\n",
       "        vertical-align: top;\n",
       "    }\n",
       "\n",
       "    .dataframe thead th {\n",
       "        text-align: right;\n",
       "    }\n",
       "</style>\n",
       "<table border=\"1\" class=\"dataframe\">\n",
       "  <thead>\n",
       "    <tr style=\"text-align: right;\">\n",
       "      <th></th>\n",
       "      <th>sex</th>\n",
       "      <th>smoker</th>\n",
       "    </tr>\n",
       "  </thead>\n",
       "  <tbody>\n",
       "    <tr>\n",
       "      <th>0</th>\n",
       "      <td>Female</td>\n",
       "      <td>No</td>\n",
       "    </tr>\n",
       "    <tr>\n",
       "      <th>1</th>\n",
       "      <td>Male</td>\n",
       "      <td>No</td>\n",
       "    </tr>\n",
       "    <tr>\n",
       "      <th>2</th>\n",
       "      <td>Male</td>\n",
       "      <td>No</td>\n",
       "    </tr>\n",
       "    <tr>\n",
       "      <th>3</th>\n",
       "      <td>Male</td>\n",
       "      <td>No</td>\n",
       "    </tr>\n",
       "    <tr>\n",
       "      <th>4</th>\n",
       "      <td>Female</td>\n",
       "      <td>No</td>\n",
       "    </tr>\n",
       "  </tbody>\n",
       "</table>\n",
       "</div>"
      ],
      "text/plain": [
       "      sex smoker\n",
       "0  Female     No\n",
       "1    Male     No\n",
       "2    Male     No\n",
       "3    Male     No\n",
       "4  Female     No"
      ]
     },
     "execution_count": 117,
     "metadata": {},
     "output_type": "execute_result"
    }
   ],
   "source": [
    "dataset[['sex','smoker']].head()"
   ]
  },
  {
   "cell_type": "code",
   "execution_count": 118,
   "id": "23fcd797-671d-4939-916c-004ed9740693",
   "metadata": {},
   "outputs": [],
   "source": [
    "dataset_table=pd.crosstab(dataset['sex'],dataset['smoker'])"
   ]
  },
  {
   "cell_type": "code",
   "execution_count": 119,
   "id": "b840fee2-aafd-4c54-86dd-612ea1327924",
   "metadata": {},
   "outputs": [
    {
     "data": {
      "text/html": [
       "<div>\n",
       "<style scoped>\n",
       "    .dataframe tbody tr th:only-of-type {\n",
       "        vertical-align: middle;\n",
       "    }\n",
       "\n",
       "    .dataframe tbody tr th {\n",
       "        vertical-align: top;\n",
       "    }\n",
       "\n",
       "    .dataframe thead th {\n",
       "        text-align: right;\n",
       "    }\n",
       "</style>\n",
       "<table border=\"1\" class=\"dataframe\">\n",
       "  <thead>\n",
       "    <tr style=\"text-align: right;\">\n",
       "      <th>smoker</th>\n",
       "      <th>Yes</th>\n",
       "      <th>No</th>\n",
       "    </tr>\n",
       "    <tr>\n",
       "      <th>sex</th>\n",
       "      <th></th>\n",
       "      <th></th>\n",
       "    </tr>\n",
       "  </thead>\n",
       "  <tbody>\n",
       "    <tr>\n",
       "      <th>Male</th>\n",
       "      <td>60</td>\n",
       "      <td>97</td>\n",
       "    </tr>\n",
       "    <tr>\n",
       "      <th>Female</th>\n",
       "      <td>33</td>\n",
       "      <td>54</td>\n",
       "    </tr>\n",
       "  </tbody>\n",
       "</table>\n",
       "</div>"
      ],
      "text/plain": [
       "smoker  Yes  No\n",
       "sex            \n",
       "Male     60  97\n",
       "Female   33  54"
      ]
     },
     "execution_count": 119,
     "metadata": {},
     "output_type": "execute_result"
    }
   ],
   "source": [
    "dataset_table"
   ]
  },
  {
   "cell_type": "code",
   "execution_count": 141,
   "id": "5406c24f-e281-4e0c-942d-791b49a71a6e",
   "metadata": {},
   "outputs": [
    {
     "data": {
      "text/plain": [
       "array([[60, 97],\n",
       "       [33, 54]], dtype=int64)"
      ]
     },
     "execution_count": 141,
     "metadata": {},
     "output_type": "execute_result"
    }
   ],
   "source": [
    "observed_value=dataset_table.values\n",
    "observed_value"
   ]
  },
  {
   "cell_type": "code",
   "execution_count": 126,
   "id": "a113467c-68cc-4d1c-a939-4ff2375b3ca5",
   "metadata": {},
   "outputs": [],
   "source": [
    "stats_test,p,dof,expected_value=stats.chi2_contingency(observed_value)"
   ]
  },
  {
   "cell_type": "code",
   "execution_count": 127,
   "id": "e0b0130a-2bdb-48d6-b9a4-cd0b3d71843f",
   "metadata": {},
   "outputs": [
    {
     "data": {
      "text/plain": [
       "0.0"
      ]
     },
     "execution_count": 127,
     "metadata": {},
     "output_type": "execute_result"
    }
   ],
   "source": [
    "stats_test"
   ]
  },
  {
   "cell_type": "code",
   "execution_count": 128,
   "id": "59ebbf7a-5a43-4e56-a97f-265d12f36997",
   "metadata": {},
   "outputs": [
    {
     "data": {
      "text/plain": [
       "1.0"
      ]
     },
     "execution_count": 128,
     "metadata": {},
     "output_type": "execute_result"
    }
   ],
   "source": [
    "p"
   ]
  },
  {
   "cell_type": "code",
   "execution_count": 129,
   "id": "b3fd92ca-a417-4624-8a21-e6ee3d848097",
   "metadata": {},
   "outputs": [
    {
     "data": {
      "text/plain": [
       "1"
      ]
     },
     "execution_count": 129,
     "metadata": {},
     "output_type": "execute_result"
    }
   ],
   "source": [
    "dof"
   ]
  },
  {
   "cell_type": "code",
   "execution_count": 130,
   "id": "d282d124-50b3-48f1-87ea-b940d5840a28",
   "metadata": {},
   "outputs": [
    {
     "data": {
      "text/plain": [
       "array([[59.84016393, 97.15983607],\n",
       "       [33.15983607, 53.84016393]])"
      ]
     },
     "execution_count": 130,
     "metadata": {},
     "output_type": "execute_result"
    }
   ],
   "source": [
    "expected_value"
   ]
  },
  {
   "cell_type": "code",
   "execution_count": 131,
   "id": "44aa3a68-e125-4a4a-a310-ea86fec5b897",
   "metadata": {},
   "outputs": [
    {
     "data": {
      "text/plain": [
       "sex\n",
       "Male      60\n",
       "Female    33\n",
       "Name: Yes, dtype: int64"
      ]
     },
     "execution_count": 131,
     "metadata": {},
     "output_type": "execute_result"
    }
   ],
   "source": [
    "dataset_table.iloc[0:2,0]"
   ]
  },
  {
   "cell_type": "code",
   "execution_count": 135,
   "id": "695e3af4-ff26-4529-a766-5151b8a69e43",
   "metadata": {},
   "outputs": [],
   "source": [
    "no_of_rows=dataset_table.iloc[0:2,0]"
   ]
  },
  {
   "cell_type": "code",
   "execution_count": 136,
   "id": "3a81221e-6556-485c-a582-d1bd3f06a403",
   "metadata": {},
   "outputs": [],
   "source": [
    "no_of_columns=dataset_table.iloc[0,0:2]"
   ]
  },
  {
   "cell_type": "code",
   "execution_count": 138,
   "id": "7c8c70bc-2bbd-46a9-98e8-01c6139df401",
   "metadata": {},
   "outputs": [],
   "source": [
    "doof=(len(no_of_columns)-1)*(len(no_of_rows)-1) #dof degreee of freedom"
   ]
  },
  {
   "cell_type": "code",
   "execution_count": 139,
   "id": "8e7cef1f-f9b5-4664-974f-19870937e41e",
   "metadata": {},
   "outputs": [
    {
     "data": {
      "text/plain": [
       "1"
      ]
     },
     "execution_count": 139,
     "metadata": {},
     "output_type": "execute_result"
    }
   ],
   "source": [
    "doof"
   ]
  },
  {
   "cell_type": "code",
   "execution_count": 142,
   "id": "9da906db-1b98-4400-a96b-a3cd91199df6",
   "metadata": {},
   "outputs": [
    {
     "name": "stdout",
     "output_type": "stream",
     "text": [
      "[60 97] [59.84016393 97.15983607]\n",
      "[33 54] [33.15983607 53.84016393]\n"
     ]
    }
   ],
   "source": [
    "for o,e in zip(observed_value,expected_value):\n",
    "    print(o,e)"
   ]
  },
  {
   "cell_type": "code",
   "execution_count": 147,
   "id": "04661ab4-ad0c-4391-9995-1ec912343246",
   "metadata": {},
   "outputs": [],
   "source": [
    "chisqure_test=sum([(o-e)**2./e for o,e in zip(observed_value,expected_value)])"
   ]
  },
  {
   "cell_type": "code",
   "execution_count": 149,
   "id": "03606528-9889-427b-98fd-2304d25a199e",
   "metadata": {},
   "outputs": [
    {
     "data": {
      "text/plain": [
       "array([0.00119737, 0.00073745])"
      ]
     },
     "execution_count": 149,
     "metadata": {},
     "output_type": "execute_result"
    }
   ],
   "source": [
    "chisqure_test"
   ]
  },
  {
   "cell_type": "code",
   "execution_count": 153,
   "id": "d9beaf2f-4c3f-4337-99f8-2bdd969a7116",
   "metadata": {},
   "outputs": [
    {
     "data": {
      "text/plain": [
       "0.001934818536627623"
      ]
     },
     "execution_count": 153,
     "metadata": {},
     "output_type": "execute_result"
    }
   ],
   "source": [
    "chi_square_statistic=chisqure_test[0]+chisqure_test[1]\n",
    "chi_square_statistic"
   ]
  },
  {
   "cell_type": "code",
   "execution_count": 151,
   "id": "3688be3a-18c6-409d-8af0-2439ee89f162",
   "metadata": {},
   "outputs": [],
   "source": [
    "alpha=0.05"
   ]
  },
  {
   "cell_type": "code",
   "execution_count": 154,
   "id": "bf46c5cf-3ffa-4483-bbb6-d05cae5f7e45",
   "metadata": {},
   "outputs": [
    {
     "data": {
      "text/plain": [
       "3.841458820694124"
      ]
     },
     "execution_count": 154,
     "metadata": {},
     "output_type": "execute_result"
    }
   ],
   "source": [
    "from scipy.stats import chi2\n",
    "critical_value=chi2.ppf(1-alpha,df=dof)\n",
    "critical_value"
   ]
  },
  {
   "cell_type": "code",
   "execution_count": 155,
   "id": "81d00ece-ed04-4e00-8956-d9bf3c4ff7ae",
   "metadata": {},
   "outputs": [
    {
     "name": "stdout",
     "output_type": "stream",
     "text": [
      "Retain H0,There is no relationship between 2 categorical variables\n"
     ]
    }
   ],
   "source": [
    "if chi_square_statistic>=critical_value:\n",
    "    print(\"Reject H0,There is a relationship between 2 categorical variables\")\n",
    "else:\n",
    "    print(\"Retain H0,There is no relationship between 2 categorical variables\")"
   ]
  },
  {
   "cell_type": "code",
   "execution_count": null,
   "id": "a13c397b-2fd5-4eb5-97fb-6a74487e901d",
   "metadata": {},
   "outputs": [],
   "source": [
    "# ANOVA and F test assignment"
   ]
  }
 ],
 "metadata": {
  "kernelspec": {
   "display_name": "Python 3 (ipykernel)",
   "language": "python",
   "name": "python3"
  },
  "language_info": {
   "codemirror_mode": {
    "name": "ipython",
    "version": 3
   },
   "file_extension": ".py",
   "mimetype": "text/x-python",
   "name": "python",
   "nbconvert_exporter": "python",
   "pygments_lexer": "ipython3",
   "version": "3.9.13"
  }
 },
 "nbformat": 4,
 "nbformat_minor": 5
}
